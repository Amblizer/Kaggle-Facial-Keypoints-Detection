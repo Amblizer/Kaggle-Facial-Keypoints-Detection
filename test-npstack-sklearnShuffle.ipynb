{
 "cells": [
  {
   "cell_type": "code",
   "execution_count": 1,
   "metadata": {},
   "outputs": [
    {
     "name": "stdout",
     "output_type": "stream",
     "text": [
      "[[ 1  2]\n",
      " [ 3  4]\n",
      " [ 5  6]\n",
      " [ 7  8]\n",
      " [ 9 10]\n",
      " [11 12]]\n",
      "[ 1  2  3  4  5  6  7  8  9 10]\n",
      "[ 1  2  3  4  5  6  7  8  9 10]\n",
      "[[ 1]\n",
      " [ 2]\n",
      " [ 3]\n",
      " [ 4]\n",
      " [ 5]\n",
      " [ 6]\n",
      " [ 7]\n",
      " [ 8]\n",
      " [ 9]\n",
      " [10]]\n"
     ]
    }
   ],
   "source": [
    "# np stack / hstack / vstack test\n",
    "\n",
    "import numpy as np\n",
    "\n",
    "a = [[1, 2, 3],\n",
    "     [4, 5, 6],\n",
    "     [7, 8, 9],\n",
    "     [10, 11, 12]]\n",
    "\n",
    "b = [[[1], [2], [3]],\n",
    "     [[4], [5], [6]],\n",
    "     [[7], [8], [9]],\n",
    "     [[10], [11], [12]]]\n",
    "\n",
    "c = [[1, 2],\n",
    "     [3, 4],\n",
    "     [5, 6],\n",
    "     [7, 8],\n",
    "     [9, 10],\n",
    "     [11, 12]]\n",
    "\n",
    "d = [[[1], [2]], \n",
    "     [[3], [4]],\n",
    "     [[5], [6]],\n",
    "     [[7], [8]],\n",
    "     [[9], [10]],\n",
    "     [[11], [12]]] \n",
    "\n",
    "e = [[[1, 2], [3, 4]],\n",
    "     [[5, 6], [7, 8]],\n",
    "     [[9, 10], [11, 12]]]\n",
    "\n",
    "f = [1, 2, 3, 4, 5, 6, 7, 8, 9, 10]\n",
    "\n",
    "# print(np.array(a))\n",
    "# print(np.hstack(a))\n",
    "# print(np.vstack(a))\n",
    "# print()\n",
    "# print(np.array(b))\n",
    "# print(np.hstack(b))\n",
    "# print(np.vstack(b))\n",
    "# print()\n",
    "# print(np.array(c))\n",
    "# print(np.hstack(c))\n",
    "# print(np.vstack(c))\n",
    "# print()\n",
    "# print(np.array(d))\n",
    "# print(np.hstack(d))\n",
    "# print(np.vstack(d))\n",
    "# print()\n",
    "# print(np.array(e))\n",
    "# print(np.hstack(e))\n",
    "print(np.vstack(e))\n",
    "# print()\n",
    "print(np.array(f))\n",
    "print(np.hstack(f))\n",
    "print(np.vstack(f))"
   ]
  },
  {
   "cell_type": "code",
   "execution_count": 2,
   "metadata": {},
   "outputs": [
    {
     "name": "stdout",
     "output_type": "stream",
     "text": [
      "[[0]\n",
      " [1]\n",
      " [2]\n",
      " [3]\n",
      " [4]\n",
      " [5]\n",
      " [6]\n",
      " [7]\n",
      " [8]\n",
      " [9]] [10 11 12 13 14 15 16 17 18 19]\n",
      "[[8]\n",
      " [1]\n",
      " [5]\n",
      " [0]\n",
      " [7]\n",
      " [2]\n",
      " [9]\n",
      " [4]\n",
      " [3]\n",
      " [6]] [18 11 15 10 17 12 19 14 13 16]\n"
     ]
    }
   ],
   "source": [
    "# sklearn-shuffle test\n",
    "from sklearn.utils import shuffle\n",
    "\n",
    "X = np.vstack(np.arange(10))\n",
    "y = np.arange(10, 20)\n",
    "print(X, y)\n",
    "X, y = shuffle(X, y, random_state=42)\n",
    "print(X, y)"
   ]
  },
  {
   "cell_type": "code",
   "execution_count": null,
   "metadata": {},
   "outputs": [],
   "source": []
  }
 ],
 "metadata": {
  "kernelspec": {
   "display_name": "Python [conda env:tf]",
   "language": "python",
   "name": "conda-env-tf-py"
  },
  "language_info": {
   "codemirror_mode": {
    "name": "ipython",
    "version": 3
   },
   "file_extension": ".py",
   "mimetype": "text/x-python",
   "name": "python",
   "nbconvert_exporter": "python",
   "pygments_lexer": "ipython3",
   "version": "3.5.5"
  }
 },
 "nbformat": 4,
 "nbformat_minor": 2
}
