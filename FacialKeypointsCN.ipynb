{
 "cells": [
  {
   "cell_type": "markdown",
   "metadata": {},
   "source": [
    "# Keras实现Kaggle面部定点\n",
    "\n",
    "这是我学习[这篇博文](https://elix-tech.github.io/ja/2016/06/02/kaggle-facial-keypoints-ja.html)时候的代码复现, 感谢原作者[Daniel Nouri]((http://danielnouri.org/notes/2014/12/17/using-convolutional-neural-nets-to-detect-facial-keypoints-tutorial/)基于[Lasagne](https://github.com/benanne/Lasagne)（[Theano](http://deeplearning.net/software/theano/)的高级框架）的实现，也感谢[真也雪](https://twitter.com/tuntuku_sy)将其迁移到Keras框架里。\n",
    "\n",
    "## 数据集\n",
    "\n",
    "[Kaggle数据集点此下载](https://www.kaggle.com/c/facial-keypoints-detection/data)\n",
    "\n",
    "dataset  | num   | resolution | color     | keypoints\n",
    "---      | ---   | ---        | ---       | ---\n",
    "Training | 7049  | 96x96      | grayscale | 15"
   ]
  },
  {
   "cell_type": "markdown",
   "metadata": {
    "heading_collapsed": true
   },
   "source": [
    "## 模型一：单隐层网络"
   ]
  },
  {
   "cell_type": "markdown",
   "metadata": {
    "heading_collapsed": true,
    "hidden": true
   },
   "source": [
    "### 载入数据集\n",
    "\n",
    "图像在csv文件“Image”栏以空格分隔像素点，其余栏为定点数据。测试集仅有图像数据，无定点数据"
   ]
  },
  {
   "cell_type": "code",
   "execution_count": null,
   "metadata": {
    "hidden": true
   },
   "outputs": [],
   "source": [
    "# \n",
    "import utils, importlib\n",
    "importlib.reload(utils)\n",
    "\n",
    "trainlib = 'training.csv'\n",
    "testlib  = 'test.csv'\n",
    "\n",
    "(X, y) = utils.loadset(trainlib)\n",
    "\n",
    "print()\n",
    "print(\"X.shape == {}; X.min == {:.3f}; X.max == {:.3f}\".format(X.shape, X.min(), X.max()))\n",
    "print(\"y.shape == {}; y.min == {:.3f}; y.max == {:.3f}\".format(y.shape, y.min(), y.max()))"
   ]
  },
  {
   "cell_type": "code",
   "execution_count": null,
   "metadata": {
    "hidden": true,
    "scrolled": true
   },
   "outputs": [],
   "source": [
    "# 1-hidden-layer NN\n",
    "import utils, importlib\n",
    "importlib.reload(utils)\n",
    "\n",
    "model = utils.modellib(name='single')\n",
    "model.summary()\n",
    "\n",
    "hist = model.fit(X, y, epochs=100, validation_split=0.2)"
   ]
  },
  {
   "cell_type": "markdown",
   "metadata": {
    "hidden": true
   },
   "source": [
    "解释\n",
    "\n",
    "1. dropna()之后只有2140样本，但是96x96=9216 input dimension 会远大于样本数量，容易导致过拟合。\n",
    "1. 将X,y均归一化有利于防止算法异常（y放到[-1，1]可以用softmax?）\n",
    "1. np.stack, np.hstack, np.vstack [用法和理解见这篇微博](http://blog.csdn.net/csdn15698845876/article/details/73380803)，scikit-learn的shuffle函数打乱后X,y的对应关系不会变（坐标还是对应原来图像）"
   ]
  },
  {
   "cell_type": "code",
   "execution_count": null,
   "metadata": {
    "hidden": true,
    "scrolled": false
   },
   "outputs": [],
   "source": [
    "# 1-hidden-layer NN\n",
    "\n",
    "from keras.models import Sequential\n",
    "from keras.layers import Dense, Activation\n",
    "from keras.optimizers import SGD\n",
    "\n",
    "model = Sequential()                # 建立顺序网络（简单的网络结构）\n",
    "model.add(Dense(100,                # 中间全连接层，100个神经元\n",
    "                input_dim=9216))    # 单个样本X的Shape，输入图像的像素数\n",
    "model.add(Activation('relu'))       # 激活函数用Relu\n",
    "model.add(Dense(30))                # 输出全连接层，30单元，单个y的Shape，15个点30个坐标\n",
    "\n",
    "sgd = SGD(lr=0.01,                  # 自定义优化器\n",
    "          momentum=0.9, \n",
    "          nesterov=True)\n",
    "model.compile(loss='mean_squared_error', # 损失函数\n",
    "              optimizer=sgd)             # 自定义的优化器\n",
    "model.summary()                          # 显示网络结构\n",
    "hist = model.fit(X, y, \n",
    "                 epochs=100,             # 训练轮数\n",
    "                 validation_split=0.2)   # 20%的训练样本用于验证"
   ]
  },
  {
   "cell_type": "markdown",
   "metadata": {
    "heading_collapsed": true,
    "hidden": true
   },
   "source": [
    "### 损失函数可视化\n",
    "\n",
    "应为用tf做后端，所以可以用tensorboard来进行可视化，此处用matplotlib\n",
    "\n",
    "Keras的model.fit()对象存放有history，按标签读取绘图即可"
   ]
  },
  {
   "cell_type": "code",
   "execution_count": null,
   "metadata": {
    "hidden": true
   },
   "outputs": [],
   "source": [
    "# Visualise\n",
    "% matplotlib inline\n",
    "import utils, importlib\n",
    "importlib.reload(utils)\n",
    "\n",
    "utils.histplot(hist, save='img/single-layer-test.png', show=True)"
   ]
  },
  {
   "cell_type": "markdown",
   "metadata": {
    "heading_collapsed": true,
    "hidden": true
   },
   "source": [
    "### 预测结果"
   ]
  },
  {
   "cell_type": "code",
   "execution_count": null,
   "metadata": {
    "hidden": true
   },
   "outputs": [],
   "source": [
    "# prediction\n",
    "import utils, importlib\n",
    "importlib.reload(utils)\n",
    "\n",
    "trainlib = 'training.csv'\n",
    "testlib  = 'test.csv'\n",
    "\n",
    "xtest, _ = utils.loadsets(testlib, test=True)\n",
    "ypred    = model.predict(xtest)"
   ]
  },
  {
   "cell_type": "code",
   "execution_count": null,
   "metadata": {
    "hidden": true
   },
   "outputs": [],
   "source": [
    "# show\n",
    "import utils, importlib\n",
    "importlib.reload(utils)\n",
    "\n",
    "utils.predplot(xtest, ypred, save='img/pred-single.png', show=True)"
   ]
  },
  {
   "cell_type": "markdown",
   "metadata": {
    "heading_collapsed": true,
    "hidden": true
   },
   "source": [
    "### 保存、加载模型"
   ]
  },
  {
   "cell_type": "code",
   "execution_count": null,
   "metadata": {
    "hidden": true
   },
   "outputs": [],
   "source": [
    "# save model\n",
    "import utils, importlib\n",
    "importlib.reload(utils)\n",
    "\n",
    "# utils.savemodel(model, name='model/single_hidden_layer')\n",
    "\n",
    "# load model\n",
    "frame   = 'model/single_hidden_layer_architecture.json'\n",
    "weights = 'model/single_hidden_layer_weights.h5'\n",
    "\n",
    "# model = utils.loadmodel(frame, weights, toprint=True)"
   ]
  },
  {
   "cell_type": "markdown",
   "metadata": {
    "heading_collapsed": true
   },
   "source": [
    "## 模型二 卷积神经网络"
   ]
  },
  {
   "cell_type": "markdown",
   "metadata": {
    "heading_collapsed": true,
    "hidden": true
   },
   "source": [
    "### 简介"
   ]
  },
  {
   "cell_type": "markdown",
   "metadata": {
    "hidden": true
   },
   "source": [
    "组成：卷积层，汇合层，全连接层\n",
    "\n",
    "1. 卷积层学习结果：每个卷积核的权重\n",
    "![Conv feature][in1]\n",
    "\n",
    "2. 汇合层：通过平均值汇合或最大值汇合降低上一层尺寸、防止过度学习，以减少参数和计算复杂度\n",
    "![MaxPooling][in2]\n",
    "\n",
    "3. 全连接层：即模型一中的隐层，与上一层所有神经元连接，上一层输出结果必须是一维数组\n",
    "\n",
    "[in1]: img/intro-conv.gif\n",
    "[in2]: img/intro-maxpool.jpg"
   ]
  },
  {
   "cell_type": "markdown",
   "metadata": {
    "heading_collapsed": true,
    "hidden": true
   },
   "source": [
    "### 模型结构"
   ]
  },
  {
   "cell_type": "code",
   "execution_count": null,
   "metadata": {
    "hidden": true,
    "scrolled": true
   },
   "outputs": [],
   "source": [
    "# convert input-dim to (96,96,1)\n",
    "import utils, importlib\n",
    "importlib.reload(utils)\n",
    "\n",
    "trainlib = 'training.csv'\n",
    "testlib  = 'test.csv'\n",
    "\n",
    "(X, y) = utils.loadset2d(trainlib)\n",
    "\n",
    "print()\n",
    "print(\"X.shape == {}; X.min == {:.3f}; X.max == {:.3f}\".format(X.shape, X.min(), X.max()))\n",
    "print(\"y.shape == {}; y.min == {:.3f}; y.max == {:.3f}\".format(y.shape, y.min(), y.max()))"
   ]
  },
  {
   "cell_type": "code",
   "execution_count": null,
   "metadata": {
    "hidden": true,
    "scrolled": true
   },
   "outputs": [],
   "source": [
    "# Model 2: CNN\n",
    "import utils, importlib\n",
    "importlib.reload(utils)\n",
    "\n",
    "modelCNN = utils.modellib(name='CNN', dim=(96, 96, 1))\n",
    "modelCNN.summary()\n",
    "\n",
    "histCNN = modelCNN.fit(X, y, epochs=100, validation_split=0.2)"
   ]
  },
  {
   "cell_type": "markdown",
   "metadata": {
    "heading_collapsed": true,
    "hidden": true
   },
   "source": [
    "### 损失可视化"
   ]
  },
  {
   "cell_type": "code",
   "execution_count": null,
   "metadata": {
    "hidden": true
   },
   "outputs": [],
   "source": [
    "# Visualise\n",
    "% matplotlib inline\n",
    "import utils, importlib\n",
    "importlib.reload(utils)\n",
    "\n",
    "utils.histplot(histCNN, save='img/CNN-test.png', show=True)"
   ]
  },
  {
   "cell_type": "markdown",
   "metadata": {
    "heading_collapsed": true,
    "hidden": true
   },
   "source": [
    "### 预测结果"
   ]
  },
  {
   "cell_type": "code",
   "execution_count": null,
   "metadata": {
    "hidden": true
   },
   "outputs": [],
   "source": [
    "# prediction\n",
    "import utils, importlib\n",
    "importlib.reload(utils)\n",
    "\n",
    "trainlib = 'training.csv'\n",
    "testlib  = 'test.csv'\n",
    "\n",
    "xtest, _ = utils.loadset2d(testlib, test=True)\n",
    "ypred = modelCNN.predict(xtest)"
   ]
  },
  {
   "cell_type": "code",
   "execution_count": null,
   "metadata": {
    "hidden": true
   },
   "outputs": [],
   "source": [
    "# show\n",
    "import utils, importlib\n",
    "importlib.reload(utils)\n",
    "\n",
    "utils.predplot(xtest, ypred, save='img/pred-CNN.png', show=True)"
   ]
  },
  {
   "cell_type": "markdown",
   "metadata": {
    "heading_collapsed": true,
    "hidden": true
   },
   "source": [
    "### 保存载入"
   ]
  },
  {
   "cell_type": "code",
   "execution_count": null,
   "metadata": {
    "hidden": true
   },
   "outputs": [],
   "source": [
    "# save model\n",
    "import utils, importlib\n",
    "importlib.reload(utils)\n",
    "\n",
    "# utils.savemodel(modelCNN, name='model/CNN')\n",
    "\n",
    "# load model\n",
    "frame   = 'model/CNN_architecture.json'\n",
    "weights = 'model/CNN_weights.h5'\n",
    "\n",
    "# modelCNN = utils.loadmodel(frame, weights, toprint=True)"
   ]
  },
  {
   "cell_type": "markdown",
   "metadata": {},
   "source": [
    "## 模型对比"
   ]
  },
  {
   "cell_type": "code",
   "execution_count": null,
   "metadata": {},
   "outputs": [],
   "source": [
    "# generate preds\n",
    "import utils, importlib\n",
    "importlib.reload(utils)\n",
    "\n",
    "trainlib = 'training.csv'\n",
    "testlib  = 'test.csv'\n",
    "\n",
    "xtest,    _= utils.loadset(testlib, test=True)\n",
    "xtest2d, _ = utils.loadset2d(testlib, test=True)\n",
    "ypred      = model.predict(xtest)\n",
    "ypredCNN   = modelCNN.predict(xtest2d)"
   ]
  },
  {
   "cell_type": "code",
   "execution_count": null,
   "metadata": {},
   "outputs": [],
   "source": [
    "# Compare loss\n",
    "% matplotlib inline\n",
    "import utils, importlib\n",
    "importlib.reload(utils)\n",
    "\n",
    "utils.histplotdiff(hist, histCNN, save='img/hist-compare.png', show=True)"
   ]
  },
  {
   "cell_type": "code",
   "execution_count": null,
   "metadata": {},
   "outputs": [],
   "source": [
    "# Compare prediction\n",
    "import utils, importlib\n",
    "importlib.reload(utils)\n",
    "\n",
    "utils.predplotdiff(xtest, ypred, ypredCNN, save='img/pred-compare.png', show=True)"
   ]
  },
  {
   "cell_type": "code",
   "execution_count": null,
   "metadata": {},
   "outputs": [],
   "source": []
  }
 ],
 "metadata": {
  "kernelspec": {
   "display_name": "Python [conda env:tf]",
   "language": "python",
   "name": "conda-env-tf-py"
  },
  "language_info": {
   "codemirror_mode": {
    "name": "ipython",
    "version": 3
   },
   "file_extension": ".py",
   "mimetype": "text/x-python",
   "name": "python",
   "nbconvert_exporter": "python",
   "pygments_lexer": "ipython3",
   "version": "3.5.5"
  }
 },
 "nbformat": 4,
 "nbformat_minor": 2
}
